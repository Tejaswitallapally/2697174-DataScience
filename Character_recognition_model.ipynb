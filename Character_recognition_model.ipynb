{
  "cells": [
    {
      "cell_type": "markdown",
      "metadata": {
        "id": "d966v8RFOGgk"
      },
      "source": [
        "#Abstract\n",
        "\n",
        "Abstract:\n",
        "This study aims to explore the use of Convolutional Neural Network (CNN) for image classification on the Typography MNIST (TMNIST) Glyphs dataset. The dataset contains over 500,000 MNIST-style images generated from 1,812 unique glyphs across 2,990 font styles. The objective of this study is to assess the effectiveness of the CNN in recognizing diverse typographic characters. This research will contribute to the broader field of computational creativity and cognitive type. This report provides detailed information on the development, training, and evaluation processes of the model, and sheds light on the potential of deep learning in handling complex character recognition tasks."
      ]
    },
    {
      "cell_type": "markdown",
      "source": [
        "#Introduction\n",
        "The field of image classification has made significant strides with the emergence of deep learning, particularly with Convolutional Neural Networks (CNNs) leading the way. This report focuses on the use of CNNs to classify typographic characters using the TMNIST Glyphs dataset. This dataset contains over 500,000 MNIST-style images, featuring 1,812 unique glyphs from 2,990 different font styles. Each image in the dataset represents a glyph, encoded in grayscale pixel values, across a 28x28 grid, similar to the MNIST dataset.\n",
        "\n",
        "The TMNIST Glyphs dataset is quite diverse, offering a broad range of typographic glyphs, including those from non-Latin scripts and complex character combinations. This diversity makes it an excellent resource for training and evaluating CNN models, but it also presents significant challenges. The dataset's structure includes columns for font name, glyph name, and label, along with 784 columns representing the pixel values of each image.\n",
        "\n",
        "This research aims to explore the complexities of typographic character recognition, using the extensive TMNIST Glyphs dataset. The study is significant not only for advancing our understanding of CNN capabilities but also for contributing to broader projects such as Warhol.ai's Computational Creativity and Cognitive Type, which aim to investigate the intersections of artificial intelligence, typography, and design. By examining the dataset's unique glyphs across various font styles, this report provides a comprehensive analysis of the CNN model's performance in recognizing and classifying a wide array of typographic characters."
      ],
      "metadata": {
        "id": "yMrZZsAX5Hny"
      }
    },
    {
      "cell_type": "markdown",
      "metadata": {
        "id": "5A_PznrjSpDa"
      },
      "source": [
        "#Importing the libraries and Reading Data"
      ]
    },
    {
      "cell_type": "code",
      "execution_count": 193,
      "metadata": {
        "id": "CJsR00WbQ_ng"
      },
      "outputs": [],
      "source": [
        "#importing the liabraries\n",
        "import numpy as np\n",
        "import pandas as pd\n",
        "import matplotlib.pyplot as plt\n",
        "from sklearn.model_selection import train_test_split\n",
        "from sklearn.metrics import accuracy_score\n",
        "from tensorflow.keras.models import Sequential\n",
        "from tensorflow.keras.layers import Dense, Flatten, Conv2D, MaxPooling2D\n",
        "from tensorflow.keras.callbacks import EarlyStopping\n",
        "from sklearn.preprocessing import OneHotEncoder\n",
        "from sklearn.preprocessing import LabelEncoder\n",
        "import tensorflow as tf\n",
        "from tensorflow.keras.models import Sequential\n",
        "from tensorflow.keras.layers import Dense, Conv2D, Flatten, MaxPooling2D\n",
        "from tensorflow.keras.utils import to_categorical\n",
        "from sklearn.model_selection import train_test_split\n",
        "from sklearn.preprocessing import LabelBinarizer\n",
        "from sklearn.utils import shuffle\n",
        "from tensorflow.keras.optimizers import Adam\n",
        "from sklearn.preprocessing import OneHotEncoder\n",
        "import matplotlib.pyplot as plt\n",
        "%matplotlib inline\n",
        "import numpy as np\n",
        "import pandas as pd\n",
        "import warnings\n",
        "warnings.filterwarnings(\"ignore\")"
      ]
    },
    {
      "cell_type": "code",
      "execution_count": 194,
      "metadata": {
        "colab": {
          "base_uri": "https://localhost:8080/",
          "height": 235
        },
        "id": "1v-xyotLREft",
        "outputId": "7aab2618-6929-42e9-849d-709d112242dd"
      },
      "outputs": [
        {
          "output_type": "execute_result",
          "data": {
            "text/plain": [
              "         font_name              glyph_name label  1  2  3  4  5  6  7  ...  \\\n",
              "0  ABeeZee-Regular  LATIN CAPITAL LETTER A     A  0  0  0  0  0  0  0  ...   \n",
              "1  ABeeZee-Regular  LATIN CAPITAL LETTER B     B  0  0  0  0  0  0  0  ...   \n",
              "2  ABeeZee-Regular  LATIN CAPITAL LETTER C     C  0  0  0  0  0  0  0  ...   \n",
              "3  ABeeZee-Regular  LATIN CAPITAL LETTER D     D  0  0  0  0  0  0  0  ...   \n",
              "4  ABeeZee-Regular  LATIN CAPITAL LETTER E     E  0  0  0  0  0  0  0  ...   \n",
              "\n",
              "   775  776  777  778  779  780  781  782  783  784  \n",
              "0  0.0  0.0  0.0  0.0  0.0  0.0  0.0  0.0  0.0  0.0  \n",
              "1  0.0  0.0  0.0  0.0  0.0  0.0  0.0  0.0  0.0  0.0  \n",
              "2  0.0  0.0  0.0  0.0  0.0  0.0  0.0  0.0  0.0  0.0  \n",
              "3  0.0  0.0  0.0  0.0  0.0  0.0  0.0  0.0  0.0  0.0  \n",
              "4  0.0  0.0  0.0  0.0  0.0  0.0  0.0  0.0  0.0  0.0  \n",
              "\n",
              "[5 rows x 787 columns]"
            ],
            "text/html": [
              "\n",
              "  <div id=\"df-47251bcd-c017-431b-be39-162fcb05587e\" class=\"colab-df-container\">\n",
              "    <div>\n",
              "<style scoped>\n",
              "    .dataframe tbody tr th:only-of-type {\n",
              "        vertical-align: middle;\n",
              "    }\n",
              "\n",
              "    .dataframe tbody tr th {\n",
              "        vertical-align: top;\n",
              "    }\n",
              "\n",
              "    .dataframe thead th {\n",
              "        text-align: right;\n",
              "    }\n",
              "</style>\n",
              "<table border=\"1\" class=\"dataframe\">\n",
              "  <thead>\n",
              "    <tr style=\"text-align: right;\">\n",
              "      <th></th>\n",
              "      <th>font_name</th>\n",
              "      <th>glyph_name</th>\n",
              "      <th>label</th>\n",
              "      <th>1</th>\n",
              "      <th>2</th>\n",
              "      <th>3</th>\n",
              "      <th>4</th>\n",
              "      <th>5</th>\n",
              "      <th>6</th>\n",
              "      <th>7</th>\n",
              "      <th>...</th>\n",
              "      <th>775</th>\n",
              "      <th>776</th>\n",
              "      <th>777</th>\n",
              "      <th>778</th>\n",
              "      <th>779</th>\n",
              "      <th>780</th>\n",
              "      <th>781</th>\n",
              "      <th>782</th>\n",
              "      <th>783</th>\n",
              "      <th>784</th>\n",
              "    </tr>\n",
              "  </thead>\n",
              "  <tbody>\n",
              "    <tr>\n",
              "      <th>0</th>\n",
              "      <td>ABeeZee-Regular</td>\n",
              "      <td>LATIN CAPITAL LETTER A</td>\n",
              "      <td>A</td>\n",
              "      <td>0</td>\n",
              "      <td>0</td>\n",
              "      <td>0</td>\n",
              "      <td>0</td>\n",
              "      <td>0</td>\n",
              "      <td>0</td>\n",
              "      <td>0</td>\n",
              "      <td>...</td>\n",
              "      <td>0.0</td>\n",
              "      <td>0.0</td>\n",
              "      <td>0.0</td>\n",
              "      <td>0.0</td>\n",
              "      <td>0.0</td>\n",
              "      <td>0.0</td>\n",
              "      <td>0.0</td>\n",
              "      <td>0.0</td>\n",
              "      <td>0.0</td>\n",
              "      <td>0.0</td>\n",
              "    </tr>\n",
              "    <tr>\n",
              "      <th>1</th>\n",
              "      <td>ABeeZee-Regular</td>\n",
              "      <td>LATIN CAPITAL LETTER B</td>\n",
              "      <td>B</td>\n",
              "      <td>0</td>\n",
              "      <td>0</td>\n",
              "      <td>0</td>\n",
              "      <td>0</td>\n",
              "      <td>0</td>\n",
              "      <td>0</td>\n",
              "      <td>0</td>\n",
              "      <td>...</td>\n",
              "      <td>0.0</td>\n",
              "      <td>0.0</td>\n",
              "      <td>0.0</td>\n",
              "      <td>0.0</td>\n",
              "      <td>0.0</td>\n",
              "      <td>0.0</td>\n",
              "      <td>0.0</td>\n",
              "      <td>0.0</td>\n",
              "      <td>0.0</td>\n",
              "      <td>0.0</td>\n",
              "    </tr>\n",
              "    <tr>\n",
              "      <th>2</th>\n",
              "      <td>ABeeZee-Regular</td>\n",
              "      <td>LATIN CAPITAL LETTER C</td>\n",
              "      <td>C</td>\n",
              "      <td>0</td>\n",
              "      <td>0</td>\n",
              "      <td>0</td>\n",
              "      <td>0</td>\n",
              "      <td>0</td>\n",
              "      <td>0</td>\n",
              "      <td>0</td>\n",
              "      <td>...</td>\n",
              "      <td>0.0</td>\n",
              "      <td>0.0</td>\n",
              "      <td>0.0</td>\n",
              "      <td>0.0</td>\n",
              "      <td>0.0</td>\n",
              "      <td>0.0</td>\n",
              "      <td>0.0</td>\n",
              "      <td>0.0</td>\n",
              "      <td>0.0</td>\n",
              "      <td>0.0</td>\n",
              "    </tr>\n",
              "    <tr>\n",
              "      <th>3</th>\n",
              "      <td>ABeeZee-Regular</td>\n",
              "      <td>LATIN CAPITAL LETTER D</td>\n",
              "      <td>D</td>\n",
              "      <td>0</td>\n",
              "      <td>0</td>\n",
              "      <td>0</td>\n",
              "      <td>0</td>\n",
              "      <td>0</td>\n",
              "      <td>0</td>\n",
              "      <td>0</td>\n",
              "      <td>...</td>\n",
              "      <td>0.0</td>\n",
              "      <td>0.0</td>\n",
              "      <td>0.0</td>\n",
              "      <td>0.0</td>\n",
              "      <td>0.0</td>\n",
              "      <td>0.0</td>\n",
              "      <td>0.0</td>\n",
              "      <td>0.0</td>\n",
              "      <td>0.0</td>\n",
              "      <td>0.0</td>\n",
              "    </tr>\n",
              "    <tr>\n",
              "      <th>4</th>\n",
              "      <td>ABeeZee-Regular</td>\n",
              "      <td>LATIN CAPITAL LETTER E</td>\n",
              "      <td>E</td>\n",
              "      <td>0</td>\n",
              "      <td>0</td>\n",
              "      <td>0</td>\n",
              "      <td>0</td>\n",
              "      <td>0</td>\n",
              "      <td>0</td>\n",
              "      <td>0</td>\n",
              "      <td>...</td>\n",
              "      <td>0.0</td>\n",
              "      <td>0.0</td>\n",
              "      <td>0.0</td>\n",
              "      <td>0.0</td>\n",
              "      <td>0.0</td>\n",
              "      <td>0.0</td>\n",
              "      <td>0.0</td>\n",
              "      <td>0.0</td>\n",
              "      <td>0.0</td>\n",
              "      <td>0.0</td>\n",
              "    </tr>\n",
              "  </tbody>\n",
              "</table>\n",
              "<p>5 rows × 787 columns</p>\n",
              "</div>\n",
              "    <div class=\"colab-df-buttons\">\n",
              "\n",
              "  <div class=\"colab-df-container\">\n",
              "    <button class=\"colab-df-convert\" onclick=\"convertToInteractive('df-47251bcd-c017-431b-be39-162fcb05587e')\"\n",
              "            title=\"Convert this dataframe to an interactive table.\"\n",
              "            style=\"display:none;\">\n",
              "\n",
              "  <svg xmlns=\"http://www.w3.org/2000/svg\" height=\"24px\" viewBox=\"0 -960 960 960\">\n",
              "    <path d=\"M120-120v-720h720v720H120Zm60-500h600v-160H180v160Zm220 220h160v-160H400v160Zm0 220h160v-160H400v160ZM180-400h160v-160H180v160Zm440 0h160v-160H620v160ZM180-180h160v-160H180v160Zm440 0h160v-160H620v160Z\"/>\n",
              "  </svg>\n",
              "    </button>\n",
              "\n",
              "  <style>\n",
              "    .colab-df-container {\n",
              "      display:flex;\n",
              "      gap: 12px;\n",
              "    }\n",
              "\n",
              "    .colab-df-convert {\n",
              "      background-color: #E8F0FE;\n",
              "      border: none;\n",
              "      border-radius: 50%;\n",
              "      cursor: pointer;\n",
              "      display: none;\n",
              "      fill: #1967D2;\n",
              "      height: 32px;\n",
              "      padding: 0 0 0 0;\n",
              "      width: 32px;\n",
              "    }\n",
              "\n",
              "    .colab-df-convert:hover {\n",
              "      background-color: #E2EBFA;\n",
              "      box-shadow: 0px 1px 2px rgba(60, 64, 67, 0.3), 0px 1px 3px 1px rgba(60, 64, 67, 0.15);\n",
              "      fill: #174EA6;\n",
              "    }\n",
              "\n",
              "    .colab-df-buttons div {\n",
              "      margin-bottom: 4px;\n",
              "    }\n",
              "\n",
              "    [theme=dark] .colab-df-convert {\n",
              "      background-color: #3B4455;\n",
              "      fill: #D2E3FC;\n",
              "    }\n",
              "\n",
              "    [theme=dark] .colab-df-convert:hover {\n",
              "      background-color: #434B5C;\n",
              "      box-shadow: 0px 1px 3px 1px rgba(0, 0, 0, 0.15);\n",
              "      filter: drop-shadow(0px 1px 2px rgba(0, 0, 0, 0.3));\n",
              "      fill: #FFFFFF;\n",
              "    }\n",
              "  </style>\n",
              "\n",
              "    <script>\n",
              "      const buttonEl =\n",
              "        document.querySelector('#df-47251bcd-c017-431b-be39-162fcb05587e button.colab-df-convert');\n",
              "      buttonEl.style.display =\n",
              "        google.colab.kernel.accessAllowed ? 'block' : 'none';\n",
              "\n",
              "      async function convertToInteractive(key) {\n",
              "        const element = document.querySelector('#df-47251bcd-c017-431b-be39-162fcb05587e');\n",
              "        const dataTable =\n",
              "          await google.colab.kernel.invokeFunction('convertToInteractive',\n",
              "                                                    [key], {});\n",
              "        if (!dataTable) return;\n",
              "\n",
              "        const docLinkHtml = 'Like what you see? Visit the ' +\n",
              "          '<a target=\"_blank\" href=https://colab.research.google.com/notebooks/data_table.ipynb>data table notebook</a>'\n",
              "          + ' to learn more about interactive tables.';\n",
              "        element.innerHTML = '';\n",
              "        dataTable['output_type'] = 'display_data';\n",
              "        await google.colab.output.renderOutput(dataTable, element);\n",
              "        const docLink = document.createElement('div');\n",
              "        docLink.innerHTML = docLinkHtml;\n",
              "        element.appendChild(docLink);\n",
              "      }\n",
              "    </script>\n",
              "  </div>\n",
              "\n",
              "\n",
              "<div id=\"df-d1a3b887-139e-4db2-9b0d-3c3e4dc77a60\">\n",
              "  <button class=\"colab-df-quickchart\" onclick=\"quickchart('df-d1a3b887-139e-4db2-9b0d-3c3e4dc77a60')\"\n",
              "            title=\"Suggest charts\"\n",
              "            style=\"display:none;\">\n",
              "\n",
              "<svg xmlns=\"http://www.w3.org/2000/svg\" height=\"24px\"viewBox=\"0 0 24 24\"\n",
              "     width=\"24px\">\n",
              "    <g>\n",
              "        <path d=\"M19 3H5c-1.1 0-2 .9-2 2v14c0 1.1.9 2 2 2h14c1.1 0 2-.9 2-2V5c0-1.1-.9-2-2-2zM9 17H7v-7h2v7zm4 0h-2V7h2v10zm4 0h-2v-4h2v4z\"/>\n",
              "    </g>\n",
              "</svg>\n",
              "  </button>\n",
              "\n",
              "<style>\n",
              "  .colab-df-quickchart {\n",
              "      --bg-color: #E8F0FE;\n",
              "      --fill-color: #1967D2;\n",
              "      --hover-bg-color: #E2EBFA;\n",
              "      --hover-fill-color: #174EA6;\n",
              "      --disabled-fill-color: #AAA;\n",
              "      --disabled-bg-color: #DDD;\n",
              "  }\n",
              "\n",
              "  [theme=dark] .colab-df-quickchart {\n",
              "      --bg-color: #3B4455;\n",
              "      --fill-color: #D2E3FC;\n",
              "      --hover-bg-color: #434B5C;\n",
              "      --hover-fill-color: #FFFFFF;\n",
              "      --disabled-bg-color: #3B4455;\n",
              "      --disabled-fill-color: #666;\n",
              "  }\n",
              "\n",
              "  .colab-df-quickchart {\n",
              "    background-color: var(--bg-color);\n",
              "    border: none;\n",
              "    border-radius: 50%;\n",
              "    cursor: pointer;\n",
              "    display: none;\n",
              "    fill: var(--fill-color);\n",
              "    height: 32px;\n",
              "    padding: 0;\n",
              "    width: 32px;\n",
              "  }\n",
              "\n",
              "  .colab-df-quickchart:hover {\n",
              "    background-color: var(--hover-bg-color);\n",
              "    box-shadow: 0 1px 2px rgba(60, 64, 67, 0.3), 0 1px 3px 1px rgba(60, 64, 67, 0.15);\n",
              "    fill: var(--button-hover-fill-color);\n",
              "  }\n",
              "\n",
              "  .colab-df-quickchart-complete:disabled,\n",
              "  .colab-df-quickchart-complete:disabled:hover {\n",
              "    background-color: var(--disabled-bg-color);\n",
              "    fill: var(--disabled-fill-color);\n",
              "    box-shadow: none;\n",
              "  }\n",
              "\n",
              "  .colab-df-spinner {\n",
              "    border: 2px solid var(--fill-color);\n",
              "    border-color: transparent;\n",
              "    border-bottom-color: var(--fill-color);\n",
              "    animation:\n",
              "      spin 1s steps(1) infinite;\n",
              "  }\n",
              "\n",
              "  @keyframes spin {\n",
              "    0% {\n",
              "      border-color: transparent;\n",
              "      border-bottom-color: var(--fill-color);\n",
              "      border-left-color: var(--fill-color);\n",
              "    }\n",
              "    20% {\n",
              "      border-color: transparent;\n",
              "      border-left-color: var(--fill-color);\n",
              "      border-top-color: var(--fill-color);\n",
              "    }\n",
              "    30% {\n",
              "      border-color: transparent;\n",
              "      border-left-color: var(--fill-color);\n",
              "      border-top-color: var(--fill-color);\n",
              "      border-right-color: var(--fill-color);\n",
              "    }\n",
              "    40% {\n",
              "      border-color: transparent;\n",
              "      border-right-color: var(--fill-color);\n",
              "      border-top-color: var(--fill-color);\n",
              "    }\n",
              "    60% {\n",
              "      border-color: transparent;\n",
              "      border-right-color: var(--fill-color);\n",
              "    }\n",
              "    80% {\n",
              "      border-color: transparent;\n",
              "      border-right-color: var(--fill-color);\n",
              "      border-bottom-color: var(--fill-color);\n",
              "    }\n",
              "    90% {\n",
              "      border-color: transparent;\n",
              "      border-bottom-color: var(--fill-color);\n",
              "    }\n",
              "  }\n",
              "</style>\n",
              "\n",
              "  <script>\n",
              "    async function quickchart(key) {\n",
              "      const quickchartButtonEl =\n",
              "        document.querySelector('#' + key + ' button');\n",
              "      quickchartButtonEl.disabled = true;  // To prevent multiple clicks.\n",
              "      quickchartButtonEl.classList.add('colab-df-spinner');\n",
              "      try {\n",
              "        const charts = await google.colab.kernel.invokeFunction(\n",
              "            'suggestCharts', [key], {});\n",
              "      } catch (error) {\n",
              "        console.error('Error during call to suggestCharts:', error);\n",
              "      }\n",
              "      quickchartButtonEl.classList.remove('colab-df-spinner');\n",
              "      quickchartButtonEl.classList.add('colab-df-quickchart-complete');\n",
              "    }\n",
              "    (() => {\n",
              "      let quickchartButtonEl =\n",
              "        document.querySelector('#df-d1a3b887-139e-4db2-9b0d-3c3e4dc77a60 button');\n",
              "      quickchartButtonEl.style.display =\n",
              "        google.colab.kernel.accessAllowed ? 'block' : 'none';\n",
              "    })();\n",
              "  </script>\n",
              "</div>\n",
              "\n",
              "    </div>\n",
              "  </div>\n"
            ],
            "application/vnd.google.colaboratory.intrinsic+json": {
              "type": "dataframe",
              "variable_name": "df"
            }
          },
          "metadata": {},
          "execution_count": 194
        }
      ],
      "source": [
        "# Reading the data into pandas dataframe\n",
        "dataset = \"/content/Glyphs_TMNIST_updated.csv\"\n",
        "df = pd.read_csv(dataset)\n",
        "df.head()"
      ]
    },
    {
      "cell_type": "markdown",
      "source": [
        "#Analysing the Dataset\n"
      ],
      "metadata": {
        "id": "HVAOUTSq5Trh"
      }
    },
    {
      "cell_type": "code",
      "execution_count": 195,
      "metadata": {
        "colab": {
          "base_uri": "https://localhost:8080/"
        },
        "id": "TbVbkvMzREE0",
        "outputId": "463ef69d-a87b-4a71-a2a1-d9a80f4fc6e0"
      },
      "outputs": [
        {
          "output_type": "stream",
          "name": "stdout",
          "text": [
            "Shape of the Dataset: (47888, 787)\n",
            "Number of Samples :  47888\n"
          ]
        }
      ],
      "source": [
        "# Viewing the shape of the dataset\n",
        "print(\"Shape of the Dataset:\", df.shape)\n",
        "\n",
        "# Viewing the samples of the dataset\n",
        "print(\"Number of Samples : \", df.shape[0])"
      ]
    },
    {
      "cell_type": "code",
      "execution_count": 196,
      "metadata": {
        "colab": {
          "base_uri": "https://localhost:8080/"
        },
        "id": "FAM5U7jZZH2G",
        "outputId": "537f520d-53c1-4448-abeb-b5357335a1f2"
      },
      "outputs": [
        {
          "output_type": "stream",
          "name": "stdout",
          "text": [
            "Number of Features :  787\n"
          ]
        }
      ],
      "source": [
        "# Viewing the features of the dataset\n",
        "print(\"Number of Features : \", df.shape[1])"
      ]
    },
    {
      "cell_type": "code",
      "source": [
        "unique_chars = df['label'].unique().tolist()\n",
        "print(\"All the unique characters in the Dataset are:\\n\", unique_chars)\n"
      ],
      "metadata": {
        "id": "mYw0p2td5eD8"
      },
      "execution_count": null,
      "outputs": []
    },
    {
      "cell_type": "code",
      "execution_count": 197,
      "metadata": {
        "colab": {
          "base_uri": "https://localhost:8080/"
        },
        "id": "Rx7Mc9UHZQUq",
        "outputId": "476e18af-691a-4ac2-895a-f34c8a56f250"
      },
      "outputs": [
        {
          "output_type": "stream",
          "name": "stdout",
          "text": [
            "Index(['font_name', 'glyph_name', 'label', '1', '2', '3', '4', '5', '6', '7',\n",
            "       ...\n",
            "       '775', '776', '777', '778', '779', '780', '781', '782', '783', '784'],\n",
            "      dtype='object', length=787)\n",
            "Number of unique characters in the Dataset: 1042\n"
          ]
        }
      ],
      "source": [
        "total_unique_chars = len(df.label.unique())\n",
        "print(\"Number of unique characters in the Dataset:\", total_unique_chars)\n"
      ]
    },
    {
      "cell_type": "code",
      "execution_count": 199,
      "metadata": {
        "colab": {
          "base_uri": "https://localhost:8080/"
        },
        "id": "eXsZLNnle32v",
        "outputId": "0faad4ff-ca1d-48dd-c932-859a4e5275db"
      },
      "outputs": [
        {
          "output_type": "execute_result",
          "data": {
            "text/plain": [
              "94"
            ]
          },
          "metadata": {},
          "execution_count": 199
        }
      ],
      "source": [
        "# Alphanumeric and Symbols List\n",
        "\n",
        "symbs = ['0', '1', '2', '3', '4', '5', '6', '7', '8', '9',\n",
        "         'A', 'B', 'C', 'D', 'E', 'F', 'G', 'H', 'I', 'J', 'K', 'L', 'M', 'N', 'O', 'P', 'Q', 'R', 'S', 'T', 'U', 'V', 'W', 'X', 'Y', 'Z',\n",
        "         'a', 'b', 'c', 'd', 'e', 'f', 'g', 'h', 'i', 'j', 'k', 'l', 'm', 'n', 'o', 'p', 'q', 'r', 's', 't', 'u', 'v', 'w', 'x', 'y', 'z',\n",
        "         '!', '\"', '#', '$', '%', '&', \"'\", '(', ')', '*', '+', ',', '-', '.', '/', ':', ';', '<', '=', '>', '?', '@','[',']','\\\\','^','_','`','{','}',\"|\",'~']\n",
        "\n",
        "len(symbs)"
      ]
    },
    {
      "cell_type": "code",
      "execution_count": 200,
      "metadata": {
        "id": "VqRP5oQ3fb2e"
      },
      "outputs": [],
      "source": [
        "M=list(range(len(symbs)))\n",
        "normal_mapping=dict(zip(symbs,M))\n",
        "reverse_mapping=dict(zip(M,symbs))"
      ]
    },
    {
      "cell_type": "code",
      "execution_count": 201,
      "metadata": {
        "id": "-kKR5dxxfeja"
      },
      "outputs": [],
      "source": [
        "data = df[df.label.isin(symbs)]"
      ]
    },
    {
      "cell_type": "code",
      "execution_count": 202,
      "metadata": {
        "colab": {
          "base_uri": "https://localhost:8080/",
          "height": 597
        },
        "id": "OTvPWrXWkXmG",
        "outputId": "d8cb741a-2488-4b64-f220-036c9de11312"
      },
      "outputs": [
        {
          "output_type": "execute_result",
          "data": {
            "text/plain": [
              "                   font_name              glyph_name label  1  2  3  4  5  6  \\\n",
              "0            ABeeZee-Regular  LATIN CAPITAL LETTER A     A  0  0  0  0  0  0   \n",
              "1            ABeeZee-Regular  LATIN CAPITAL LETTER B     B  0  0  0  0  0  0   \n",
              "2            ABeeZee-Regular  LATIN CAPITAL LETTER C     C  0  0  0  0  0  0   \n",
              "3            ABeeZee-Regular  LATIN CAPITAL LETTER D     D  0  0  0  0  0  0   \n",
              "4            ABeeZee-Regular  LATIN CAPITAL LETTER E     E  0  0  0  0  0  0   \n",
              "...                      ...                     ...   ... .. .. .. .. .. ..   \n",
              "47883  BalooPaaji2-ExtraBold     GURMUKHI DIGIT FOUR     ੪  0  0  0  0  0  0   \n",
              "47884  BalooPaaji2-ExtraBold     GURMUKHI DIGIT FIVE     ੫  0  0  0  0  0  0   \n",
              "47885  BalooPaaji2-ExtraBold      GURMUKHI DIGIT SIX     ੬  0  0  0  0  0  0   \n",
              "47886  BalooPaaji2-ExtraBold    GURMUKHI DIGIT SEVEN     ੭  0  0  0  0  0  0   \n",
              "47887  BalooPaaji2-ExtraBold    GURMUKHI DIGIT EIGHT     ੮  0  0  0  0  0  0   \n",
              "\n",
              "       7  ...  775  776  777  778  779  780  781  782  783  784  \n",
              "0      0  ...  0.0  0.0  0.0  0.0  0.0  0.0  0.0  0.0  0.0  0.0  \n",
              "1      0  ...  0.0  0.0  0.0  0.0  0.0  0.0  0.0  0.0  0.0  0.0  \n",
              "2      0  ...  0.0  0.0  0.0  0.0  0.0  0.0  0.0  0.0  0.0  0.0  \n",
              "3      0  ...  0.0  0.0  0.0  0.0  0.0  0.0  0.0  0.0  0.0  0.0  \n",
              "4      0  ...  0.0  0.0  0.0  0.0  0.0  0.0  0.0  0.0  0.0  0.0  \n",
              "...   ..  ...  ...  ...  ...  ...  ...  ...  ...  ...  ...  ...  \n",
              "47883  0  ...  0.0  0.0  0.0  0.0  0.0  0.0  0.0  0.0  0.0  0.0  \n",
              "47884  0  ...  0.0  0.0  0.0  0.0  0.0  0.0  0.0  0.0  0.0  0.0  \n",
              "47885  0  ...  0.0  0.0  0.0  0.0  0.0  0.0  0.0  0.0  0.0  0.0  \n",
              "47886  0  ...  0.0  0.0  0.0  0.0  0.0  0.0  0.0  0.0  0.0  0.0  \n",
              "47887  0  ...  NaN  NaN  NaN  NaN  NaN  NaN  NaN  NaN  NaN  NaN  \n",
              "\n",
              "[47888 rows x 787 columns]"
            ],
            "text/html": [
              "\n",
              "  <div id=\"df-7a89b3e2-1ce0-4540-aaa1-ade9c42406d8\" class=\"colab-df-container\">\n",
              "    <div>\n",
              "<style scoped>\n",
              "    .dataframe tbody tr th:only-of-type {\n",
              "        vertical-align: middle;\n",
              "    }\n",
              "\n",
              "    .dataframe tbody tr th {\n",
              "        vertical-align: top;\n",
              "    }\n",
              "\n",
              "    .dataframe thead th {\n",
              "        text-align: right;\n",
              "    }\n",
              "</style>\n",
              "<table border=\"1\" class=\"dataframe\">\n",
              "  <thead>\n",
              "    <tr style=\"text-align: right;\">\n",
              "      <th></th>\n",
              "      <th>font_name</th>\n",
              "      <th>glyph_name</th>\n",
              "      <th>label</th>\n",
              "      <th>1</th>\n",
              "      <th>2</th>\n",
              "      <th>3</th>\n",
              "      <th>4</th>\n",
              "      <th>5</th>\n",
              "      <th>6</th>\n",
              "      <th>7</th>\n",
              "      <th>...</th>\n",
              "      <th>775</th>\n",
              "      <th>776</th>\n",
              "      <th>777</th>\n",
              "      <th>778</th>\n",
              "      <th>779</th>\n",
              "      <th>780</th>\n",
              "      <th>781</th>\n",
              "      <th>782</th>\n",
              "      <th>783</th>\n",
              "      <th>784</th>\n",
              "    </tr>\n",
              "  </thead>\n",
              "  <tbody>\n",
              "    <tr>\n",
              "      <th>0</th>\n",
              "      <td>ABeeZee-Regular</td>\n",
              "      <td>LATIN CAPITAL LETTER A</td>\n",
              "      <td>A</td>\n",
              "      <td>0</td>\n",
              "      <td>0</td>\n",
              "      <td>0</td>\n",
              "      <td>0</td>\n",
              "      <td>0</td>\n",
              "      <td>0</td>\n",
              "      <td>0</td>\n",
              "      <td>...</td>\n",
              "      <td>0.0</td>\n",
              "      <td>0.0</td>\n",
              "      <td>0.0</td>\n",
              "      <td>0.0</td>\n",
              "      <td>0.0</td>\n",
              "      <td>0.0</td>\n",
              "      <td>0.0</td>\n",
              "      <td>0.0</td>\n",
              "      <td>0.0</td>\n",
              "      <td>0.0</td>\n",
              "    </tr>\n",
              "    <tr>\n",
              "      <th>1</th>\n",
              "      <td>ABeeZee-Regular</td>\n",
              "      <td>LATIN CAPITAL LETTER B</td>\n",
              "      <td>B</td>\n",
              "      <td>0</td>\n",
              "      <td>0</td>\n",
              "      <td>0</td>\n",
              "      <td>0</td>\n",
              "      <td>0</td>\n",
              "      <td>0</td>\n",
              "      <td>0</td>\n",
              "      <td>...</td>\n",
              "      <td>0.0</td>\n",
              "      <td>0.0</td>\n",
              "      <td>0.0</td>\n",
              "      <td>0.0</td>\n",
              "      <td>0.0</td>\n",
              "      <td>0.0</td>\n",
              "      <td>0.0</td>\n",
              "      <td>0.0</td>\n",
              "      <td>0.0</td>\n",
              "      <td>0.0</td>\n",
              "    </tr>\n",
              "    <tr>\n",
              "      <th>2</th>\n",
              "      <td>ABeeZee-Regular</td>\n",
              "      <td>LATIN CAPITAL LETTER C</td>\n",
              "      <td>C</td>\n",
              "      <td>0</td>\n",
              "      <td>0</td>\n",
              "      <td>0</td>\n",
              "      <td>0</td>\n",
              "      <td>0</td>\n",
              "      <td>0</td>\n",
              "      <td>0</td>\n",
              "      <td>...</td>\n",
              "      <td>0.0</td>\n",
              "      <td>0.0</td>\n",
              "      <td>0.0</td>\n",
              "      <td>0.0</td>\n",
              "      <td>0.0</td>\n",
              "      <td>0.0</td>\n",
              "      <td>0.0</td>\n",
              "      <td>0.0</td>\n",
              "      <td>0.0</td>\n",
              "      <td>0.0</td>\n",
              "    </tr>\n",
              "    <tr>\n",
              "      <th>3</th>\n",
              "      <td>ABeeZee-Regular</td>\n",
              "      <td>LATIN CAPITAL LETTER D</td>\n",
              "      <td>D</td>\n",
              "      <td>0</td>\n",
              "      <td>0</td>\n",
              "      <td>0</td>\n",
              "      <td>0</td>\n",
              "      <td>0</td>\n",
              "      <td>0</td>\n",
              "      <td>0</td>\n",
              "      <td>...</td>\n",
              "      <td>0.0</td>\n",
              "      <td>0.0</td>\n",
              "      <td>0.0</td>\n",
              "      <td>0.0</td>\n",
              "      <td>0.0</td>\n",
              "      <td>0.0</td>\n",
              "      <td>0.0</td>\n",
              "      <td>0.0</td>\n",
              "      <td>0.0</td>\n",
              "      <td>0.0</td>\n",
              "    </tr>\n",
              "    <tr>\n",
              "      <th>4</th>\n",
              "      <td>ABeeZee-Regular</td>\n",
              "      <td>LATIN CAPITAL LETTER E</td>\n",
              "      <td>E</td>\n",
              "      <td>0</td>\n",
              "      <td>0</td>\n",
              "      <td>0</td>\n",
              "      <td>0</td>\n",
              "      <td>0</td>\n",
              "      <td>0</td>\n",
              "      <td>0</td>\n",
              "      <td>...</td>\n",
              "      <td>0.0</td>\n",
              "      <td>0.0</td>\n",
              "      <td>0.0</td>\n",
              "      <td>0.0</td>\n",
              "      <td>0.0</td>\n",
              "      <td>0.0</td>\n",
              "      <td>0.0</td>\n",
              "      <td>0.0</td>\n",
              "      <td>0.0</td>\n",
              "      <td>0.0</td>\n",
              "    </tr>\n",
              "    <tr>\n",
              "      <th>...</th>\n",
              "      <td>...</td>\n",
              "      <td>...</td>\n",
              "      <td>...</td>\n",
              "      <td>...</td>\n",
              "      <td>...</td>\n",
              "      <td>...</td>\n",
              "      <td>...</td>\n",
              "      <td>...</td>\n",
              "      <td>...</td>\n",
              "      <td>...</td>\n",
              "      <td>...</td>\n",
              "      <td>...</td>\n",
              "      <td>...</td>\n",
              "      <td>...</td>\n",
              "      <td>...</td>\n",
              "      <td>...</td>\n",
              "      <td>...</td>\n",
              "      <td>...</td>\n",
              "      <td>...</td>\n",
              "      <td>...</td>\n",
              "      <td>...</td>\n",
              "    </tr>\n",
              "    <tr>\n",
              "      <th>47883</th>\n",
              "      <td>BalooPaaji2-ExtraBold</td>\n",
              "      <td>GURMUKHI DIGIT FOUR</td>\n",
              "      <td>੪</td>\n",
              "      <td>0</td>\n",
              "      <td>0</td>\n",
              "      <td>0</td>\n",
              "      <td>0</td>\n",
              "      <td>0</td>\n",
              "      <td>0</td>\n",
              "      <td>0</td>\n",
              "      <td>...</td>\n",
              "      <td>0.0</td>\n",
              "      <td>0.0</td>\n",
              "      <td>0.0</td>\n",
              "      <td>0.0</td>\n",
              "      <td>0.0</td>\n",
              "      <td>0.0</td>\n",
              "      <td>0.0</td>\n",
              "      <td>0.0</td>\n",
              "      <td>0.0</td>\n",
              "      <td>0.0</td>\n",
              "    </tr>\n",
              "    <tr>\n",
              "      <th>47884</th>\n",
              "      <td>BalooPaaji2-ExtraBold</td>\n",
              "      <td>GURMUKHI DIGIT FIVE</td>\n",
              "      <td>੫</td>\n",
              "      <td>0</td>\n",
              "      <td>0</td>\n",
              "      <td>0</td>\n",
              "      <td>0</td>\n",
              "      <td>0</td>\n",
              "      <td>0</td>\n",
              "      <td>0</td>\n",
              "      <td>...</td>\n",
              "      <td>0.0</td>\n",
              "      <td>0.0</td>\n",
              "      <td>0.0</td>\n",
              "      <td>0.0</td>\n",
              "      <td>0.0</td>\n",
              "      <td>0.0</td>\n",
              "      <td>0.0</td>\n",
              "      <td>0.0</td>\n",
              "      <td>0.0</td>\n",
              "      <td>0.0</td>\n",
              "    </tr>\n",
              "    <tr>\n",
              "      <th>47885</th>\n",
              "      <td>BalooPaaji2-ExtraBold</td>\n",
              "      <td>GURMUKHI DIGIT SIX</td>\n",
              "      <td>੬</td>\n",
              "      <td>0</td>\n",
              "      <td>0</td>\n",
              "      <td>0</td>\n",
              "      <td>0</td>\n",
              "      <td>0</td>\n",
              "      <td>0</td>\n",
              "      <td>0</td>\n",
              "      <td>...</td>\n",
              "      <td>0.0</td>\n",
              "      <td>0.0</td>\n",
              "      <td>0.0</td>\n",
              "      <td>0.0</td>\n",
              "      <td>0.0</td>\n",
              "      <td>0.0</td>\n",
              "      <td>0.0</td>\n",
              "      <td>0.0</td>\n",
              "      <td>0.0</td>\n",
              "      <td>0.0</td>\n",
              "    </tr>\n",
              "    <tr>\n",
              "      <th>47886</th>\n",
              "      <td>BalooPaaji2-ExtraBold</td>\n",
              "      <td>GURMUKHI DIGIT SEVEN</td>\n",
              "      <td>੭</td>\n",
              "      <td>0</td>\n",
              "      <td>0</td>\n",
              "      <td>0</td>\n",
              "      <td>0</td>\n",
              "      <td>0</td>\n",
              "      <td>0</td>\n",
              "      <td>0</td>\n",
              "      <td>...</td>\n",
              "      <td>0.0</td>\n",
              "      <td>0.0</td>\n",
              "      <td>0.0</td>\n",
              "      <td>0.0</td>\n",
              "      <td>0.0</td>\n",
              "      <td>0.0</td>\n",
              "      <td>0.0</td>\n",
              "      <td>0.0</td>\n",
              "      <td>0.0</td>\n",
              "      <td>0.0</td>\n",
              "    </tr>\n",
              "    <tr>\n",
              "      <th>47887</th>\n",
              "      <td>BalooPaaji2-ExtraBold</td>\n",
              "      <td>GURMUKHI DIGIT EIGHT</td>\n",
              "      <td>੮</td>\n",
              "      <td>0</td>\n",
              "      <td>0</td>\n",
              "      <td>0</td>\n",
              "      <td>0</td>\n",
              "      <td>0</td>\n",
              "      <td>0</td>\n",
              "      <td>0</td>\n",
              "      <td>...</td>\n",
              "      <td>NaN</td>\n",
              "      <td>NaN</td>\n",
              "      <td>NaN</td>\n",
              "      <td>NaN</td>\n",
              "      <td>NaN</td>\n",
              "      <td>NaN</td>\n",
              "      <td>NaN</td>\n",
              "      <td>NaN</td>\n",
              "      <td>NaN</td>\n",
              "      <td>NaN</td>\n",
              "    </tr>\n",
              "  </tbody>\n",
              "</table>\n",
              "<p>47888 rows × 787 columns</p>\n",
              "</div>\n",
              "    <div class=\"colab-df-buttons\">\n",
              "\n",
              "  <div class=\"colab-df-container\">\n",
              "    <button class=\"colab-df-convert\" onclick=\"convertToInteractive('df-7a89b3e2-1ce0-4540-aaa1-ade9c42406d8')\"\n",
              "            title=\"Convert this dataframe to an interactive table.\"\n",
              "            style=\"display:none;\">\n",
              "\n",
              "  <svg xmlns=\"http://www.w3.org/2000/svg\" height=\"24px\" viewBox=\"0 -960 960 960\">\n",
              "    <path d=\"M120-120v-720h720v720H120Zm60-500h600v-160H180v160Zm220 220h160v-160H400v160Zm0 220h160v-160H400v160ZM180-400h160v-160H180v160Zm440 0h160v-160H620v160ZM180-180h160v-160H180v160Zm440 0h160v-160H620v160Z\"/>\n",
              "  </svg>\n",
              "    </button>\n",
              "\n",
              "  <style>\n",
              "    .colab-df-container {\n",
              "      display:flex;\n",
              "      gap: 12px;\n",
              "    }\n",
              "\n",
              "    .colab-df-convert {\n",
              "      background-color: #E8F0FE;\n",
              "      border: none;\n",
              "      border-radius: 50%;\n",
              "      cursor: pointer;\n",
              "      display: none;\n",
              "      fill: #1967D2;\n",
              "      height: 32px;\n",
              "      padding: 0 0 0 0;\n",
              "      width: 32px;\n",
              "    }\n",
              "\n",
              "    .colab-df-convert:hover {\n",
              "      background-color: #E2EBFA;\n",
              "      box-shadow: 0px 1px 2px rgba(60, 64, 67, 0.3), 0px 1px 3px 1px rgba(60, 64, 67, 0.15);\n",
              "      fill: #174EA6;\n",
              "    }\n",
              "\n",
              "    .colab-df-buttons div {\n",
              "      margin-bottom: 4px;\n",
              "    }\n",
              "\n",
              "    [theme=dark] .colab-df-convert {\n",
              "      background-color: #3B4455;\n",
              "      fill: #D2E3FC;\n",
              "    }\n",
              "\n",
              "    [theme=dark] .colab-df-convert:hover {\n",
              "      background-color: #434B5C;\n",
              "      box-shadow: 0px 1px 3px 1px rgba(0, 0, 0, 0.15);\n",
              "      filter: drop-shadow(0px 1px 2px rgba(0, 0, 0, 0.3));\n",
              "      fill: #FFFFFF;\n",
              "    }\n",
              "  </style>\n",
              "\n",
              "    <script>\n",
              "      const buttonEl =\n",
              "        document.querySelector('#df-7a89b3e2-1ce0-4540-aaa1-ade9c42406d8 button.colab-df-convert');\n",
              "      buttonEl.style.display =\n",
              "        google.colab.kernel.accessAllowed ? 'block' : 'none';\n",
              "\n",
              "      async function convertToInteractive(key) {\n",
              "        const element = document.querySelector('#df-7a89b3e2-1ce0-4540-aaa1-ade9c42406d8');\n",
              "        const dataTable =\n",
              "          await google.colab.kernel.invokeFunction('convertToInteractive',\n",
              "                                                    [key], {});\n",
              "        if (!dataTable) return;\n",
              "\n",
              "        const docLinkHtml = 'Like what you see? Visit the ' +\n",
              "          '<a target=\"_blank\" href=https://colab.research.google.com/notebooks/data_table.ipynb>data table notebook</a>'\n",
              "          + ' to learn more about interactive tables.';\n",
              "        element.innerHTML = '';\n",
              "        dataTable['output_type'] = 'display_data';\n",
              "        await google.colab.output.renderOutput(dataTable, element);\n",
              "        const docLink = document.createElement('div');\n",
              "        docLink.innerHTML = docLinkHtml;\n",
              "        element.appendChild(docLink);\n",
              "      }\n",
              "    </script>\n",
              "  </div>\n",
              "\n",
              "\n",
              "<div id=\"df-2ecb1966-e459-41db-a647-e83aa3781309\">\n",
              "  <button class=\"colab-df-quickchart\" onclick=\"quickchart('df-2ecb1966-e459-41db-a647-e83aa3781309')\"\n",
              "            title=\"Suggest charts\"\n",
              "            style=\"display:none;\">\n",
              "\n",
              "<svg xmlns=\"http://www.w3.org/2000/svg\" height=\"24px\"viewBox=\"0 0 24 24\"\n",
              "     width=\"24px\">\n",
              "    <g>\n",
              "        <path d=\"M19 3H5c-1.1 0-2 .9-2 2v14c0 1.1.9 2 2 2h14c1.1 0 2-.9 2-2V5c0-1.1-.9-2-2-2zM9 17H7v-7h2v7zm4 0h-2V7h2v10zm4 0h-2v-4h2v4z\"/>\n",
              "    </g>\n",
              "</svg>\n",
              "  </button>\n",
              "\n",
              "<style>\n",
              "  .colab-df-quickchart {\n",
              "      --bg-color: #E8F0FE;\n",
              "      --fill-color: #1967D2;\n",
              "      --hover-bg-color: #E2EBFA;\n",
              "      --hover-fill-color: #174EA6;\n",
              "      --disabled-fill-color: #AAA;\n",
              "      --disabled-bg-color: #DDD;\n",
              "  }\n",
              "\n",
              "  [theme=dark] .colab-df-quickchart {\n",
              "      --bg-color: #3B4455;\n",
              "      --fill-color: #D2E3FC;\n",
              "      --hover-bg-color: #434B5C;\n",
              "      --hover-fill-color: #FFFFFF;\n",
              "      --disabled-bg-color: #3B4455;\n",
              "      --disabled-fill-color: #666;\n",
              "  }\n",
              "\n",
              "  .colab-df-quickchart {\n",
              "    background-color: var(--bg-color);\n",
              "    border: none;\n",
              "    border-radius: 50%;\n",
              "    cursor: pointer;\n",
              "    display: none;\n",
              "    fill: var(--fill-color);\n",
              "    height: 32px;\n",
              "    padding: 0;\n",
              "    width: 32px;\n",
              "  }\n",
              "\n",
              "  .colab-df-quickchart:hover {\n",
              "    background-color: var(--hover-bg-color);\n",
              "    box-shadow: 0 1px 2px rgba(60, 64, 67, 0.3), 0 1px 3px 1px rgba(60, 64, 67, 0.15);\n",
              "    fill: var(--button-hover-fill-color);\n",
              "  }\n",
              "\n",
              "  .colab-df-quickchart-complete:disabled,\n",
              "  .colab-df-quickchart-complete:disabled:hover {\n",
              "    background-color: var(--disabled-bg-color);\n",
              "    fill: var(--disabled-fill-color);\n",
              "    box-shadow: none;\n",
              "  }\n",
              "\n",
              "  .colab-df-spinner {\n",
              "    border: 2px solid var(--fill-color);\n",
              "    border-color: transparent;\n",
              "    border-bottom-color: var(--fill-color);\n",
              "    animation:\n",
              "      spin 1s steps(1) infinite;\n",
              "  }\n",
              "\n",
              "  @keyframes spin {\n",
              "    0% {\n",
              "      border-color: transparent;\n",
              "      border-bottom-color: var(--fill-color);\n",
              "      border-left-color: var(--fill-color);\n",
              "    }\n",
              "    20% {\n",
              "      border-color: transparent;\n",
              "      border-left-color: var(--fill-color);\n",
              "      border-top-color: var(--fill-color);\n",
              "    }\n",
              "    30% {\n",
              "      border-color: transparent;\n",
              "      border-left-color: var(--fill-color);\n",
              "      border-top-color: var(--fill-color);\n",
              "      border-right-color: var(--fill-color);\n",
              "    }\n",
              "    40% {\n",
              "      border-color: transparent;\n",
              "      border-right-color: var(--fill-color);\n",
              "      border-top-color: var(--fill-color);\n",
              "    }\n",
              "    60% {\n",
              "      border-color: transparent;\n",
              "      border-right-color: var(--fill-color);\n",
              "    }\n",
              "    80% {\n",
              "      border-color: transparent;\n",
              "      border-right-color: var(--fill-color);\n",
              "      border-bottom-color: var(--fill-color);\n",
              "    }\n",
              "    90% {\n",
              "      border-color: transparent;\n",
              "      border-bottom-color: var(--fill-color);\n",
              "    }\n",
              "  }\n",
              "</style>\n",
              "\n",
              "  <script>\n",
              "    async function quickchart(key) {\n",
              "      const quickchartButtonEl =\n",
              "        document.querySelector('#' + key + ' button');\n",
              "      quickchartButtonEl.disabled = true;  // To prevent multiple clicks.\n",
              "      quickchartButtonEl.classList.add('colab-df-spinner');\n",
              "      try {\n",
              "        const charts = await google.colab.kernel.invokeFunction(\n",
              "            'suggestCharts', [key], {});\n",
              "      } catch (error) {\n",
              "        console.error('Error during call to suggestCharts:', error);\n",
              "      }\n",
              "      quickchartButtonEl.classList.remove('colab-df-spinner');\n",
              "      quickchartButtonEl.classList.add('colab-df-quickchart-complete');\n",
              "    }\n",
              "    (() => {\n",
              "      let quickchartButtonEl =\n",
              "        document.querySelector('#df-2ecb1966-e459-41db-a647-e83aa3781309 button');\n",
              "      quickchartButtonEl.style.display =\n",
              "        google.colab.kernel.accessAllowed ? 'block' : 'none';\n",
              "    })();\n",
              "  </script>\n",
              "</div>\n",
              "\n",
              "  <div id=\"id_3747b0eb-1b4e-4cd0-998a-b238064b668e\">\n",
              "    <style>\n",
              "      .colab-df-generate {\n",
              "        background-color: #E8F0FE;\n",
              "        border: none;\n",
              "        border-radius: 50%;\n",
              "        cursor: pointer;\n",
              "        display: none;\n",
              "        fill: #1967D2;\n",
              "        height: 32px;\n",
              "        padding: 0 0 0 0;\n",
              "        width: 32px;\n",
              "      }\n",
              "\n",
              "      .colab-df-generate:hover {\n",
              "        background-color: #E2EBFA;\n",
              "        box-shadow: 0px 1px 2px rgba(60, 64, 67, 0.3), 0px 1px 3px 1px rgba(60, 64, 67, 0.15);\n",
              "        fill: #174EA6;\n",
              "      }\n",
              "\n",
              "      [theme=dark] .colab-df-generate {\n",
              "        background-color: #3B4455;\n",
              "        fill: #D2E3FC;\n",
              "      }\n",
              "\n",
              "      [theme=dark] .colab-df-generate:hover {\n",
              "        background-color: #434B5C;\n",
              "        box-shadow: 0px 1px 3px 1px rgba(0, 0, 0, 0.15);\n",
              "        filter: drop-shadow(0px 1px 2px rgba(0, 0, 0, 0.3));\n",
              "        fill: #FFFFFF;\n",
              "      }\n",
              "    </style>\n",
              "    <button class=\"colab-df-generate\" onclick=\"generateWithVariable('data')\"\n",
              "            title=\"Generate code using this dataframe.\"\n",
              "            style=\"display:none;\">\n",
              "\n",
              "  <svg xmlns=\"http://www.w3.org/2000/svg\" height=\"24px\"viewBox=\"0 0 24 24\"\n",
              "       width=\"24px\">\n",
              "    <path d=\"M7,19H8.4L18.45,9,17,7.55,7,17.6ZM5,21V16.75L18.45,3.32a2,2,0,0,1,2.83,0l1.4,1.43a1.91,1.91,0,0,1,.58,1.4,1.91,1.91,0,0,1-.58,1.4L9.25,21ZM18.45,9,17,7.55Zm-12,3A5.31,5.31,0,0,0,4.9,8.1,5.31,5.31,0,0,0,1,6.5,5.31,5.31,0,0,0,4.9,4.9,5.31,5.31,0,0,0,6.5,1,5.31,5.31,0,0,0,8.1,4.9,5.31,5.31,0,0,0,12,6.5,5.46,5.46,0,0,0,6.5,12Z\"/>\n",
              "  </svg>\n",
              "    </button>\n",
              "    <script>\n",
              "      (() => {\n",
              "      const buttonEl =\n",
              "        document.querySelector('#id_3747b0eb-1b4e-4cd0-998a-b238064b668e button.colab-df-generate');\n",
              "      buttonEl.style.display =\n",
              "        google.colab.kernel.accessAllowed ? 'block' : 'none';\n",
              "\n",
              "      buttonEl.onclick = () => {\n",
              "        google.colab.notebook.generateWithVariable('data');\n",
              "      }\n",
              "      })();\n",
              "    </script>\n",
              "  </div>\n",
              "\n",
              "    </div>\n",
              "  </div>\n"
            ],
            "application/vnd.google.colaboratory.intrinsic+json": {
              "type": "dataframe",
              "variable_name": "data"
            }
          },
          "metadata": {},
          "execution_count": 202
        }
      ],
      "source": [
        "# Seperating the features and target variable\n",
        "\n",
        "data = df.copy()\n",
        "\n",
        "data"
      ]
    },
    {
      "cell_type": "code",
      "execution_count": 203,
      "metadata": {
        "colab": {
          "base_uri": "https://localhost:8080/"
        },
        "id": "tYSPTamugDEI",
        "outputId": "e8d0c618-afdf-489f-80ae-78f7cd58c658"
      },
      "outputs": [
        {
          "output_type": "stream",
          "name": "stdout",
          "text": [
            "Number of unique fonts present in the Dataset: 292\n",
            "Number of unique character present in the Dataset: 1042\n"
          ]
        }
      ],
      "source": [
        "# Number of Fonts present in the Dataframe\n",
        "print(f\"Number of unique fonts present in the Dataset: {len(data.font_name.unique())}\")\n",
        "# Number of unique characters present in the Dataframe\n",
        "print(f\"Number of unique character present in the Dataset: {len(data.label.unique())}\")"
      ]
    },
    {
      "cell_type": "markdown",
      "source": [
        "#Splitting the data for Testing & Training"
      ],
      "metadata": {
        "id": "DMIWANk75lw4"
      }
    },
    {
      "cell_type": "code",
      "execution_count": 204,
      "metadata": {
        "id": "RtpibLPZZ_Wa"
      },
      "outputs": [],
      "source": [
        "X = data.drop(columns=['font_name','glyph_name','label']).values\n",
        "y = data[['label']].values\n",
        "del data"
      ]
    },
    {
      "cell_type": "code",
      "execution_count": 205,
      "metadata": {
        "colab": {
          "base_uri": "https://localhost:8080/"
        },
        "id": "rNjZGsCEZ_M9",
        "outputId": "8d3822c6-dc92-4613-d12a-4a211eb60b20"
      },
      "outputs": [
        {
          "output_type": "stream",
          "name": "stdout",
          "text": [
            "Shape of features (X): (47888, 784)\n"
          ]
        }
      ],
      "source": [
        "# Displaying the shape of the features (X), indicating the number of samples and features\n",
        "print(f\"Shape of features (X): {X.shape}\")"
      ]
    },
    {
      "cell_type": "code",
      "execution_count": 206,
      "metadata": {
        "colab": {
          "base_uri": "https://localhost:8080/"
        },
        "id": "gM8U3i7aZ_CR",
        "outputId": "dae83793-5277-4ae9-d959-735a1870ee43"
      },
      "outputs": [
        {
          "output_type": "stream",
          "name": "stdout",
          "text": [
            "Shape of labels (y): (47888, 1)\n"
          ]
        }
      ],
      "source": [
        "# Displaying the shape of the labels (y), indicating the number of samples\n",
        "print(f\"Shape of labels (y): {y.shape}\")"
      ]
    },
    {
      "cell_type": "code",
      "execution_count": 207,
      "metadata": {
        "colab": {
          "base_uri": "https://localhost:8080/"
        },
        "id": "ztplr-uAZ-25",
        "outputId": "03ad0593-1d9b-49b2-ad67-aea35bcbff1c"
      },
      "outputs": [
        {
          "output_type": "execute_result",
          "data": {
            "text/plain": [
              "dtype('uint8')"
            ]
          },
          "metadata": {},
          "execution_count": 207
        }
      ],
      "source": [
        "X = X.astype('u1')\n",
        "X.dtype"
      ]
    },
    {
      "cell_type": "code",
      "execution_count": 208,
      "metadata": {
        "colab": {
          "base_uri": "https://localhost:8080/"
        },
        "id": "GYgJ0MX2Z-rC",
        "outputId": "54bef0f1-185b-4e57-b58e-078e6db75e43"
      },
      "outputs": [
        {
          "output_type": "stream",
          "name": "stdout",
          "text": [
            "The data type of the target variable is : object\n"
          ]
        }
      ],
      "source": [
        "print(f\"The data type of the target variable is : {y.dtype}\")\n",
        "\n"
      ]
    },
    {
      "cell_type": "code",
      "execution_count": 210,
      "metadata": {
        "id": "frioaeDUnlj-"
      },
      "outputs": [],
      "source": [
        "#Splitting Dataset into Training and Testing in 80% and 20% respectively\n",
        "from sklearn.model_selection import train_test_split\n",
        "X_train, X_test, y_train, y_test = train_test_split(X, y, test_size=0.2)\n",
        "y_train = y_train.reshape((-1,))\n",
        "y_test = y_test.reshape((-1,))"
      ]
    },
    {
      "cell_type": "code",
      "execution_count": 211,
      "metadata": {
        "colab": {
          "base_uri": "https://localhost:8080/"
        },
        "id": "TTXROCAinqd2",
        "outputId": "b1c28b96-6369-44c5-b825-26f649bf1958"
      },
      "outputs": [
        {
          "output_type": "execute_result",
          "data": {
            "text/plain": [
              "array(['е', 'B', 't', ..., 'V', 'А', 'I'], dtype=object)"
            ]
          },
          "metadata": {},
          "execution_count": 211
        }
      ],
      "source": [
        "y_train"
      ]
    },
    {
      "cell_type": "code",
      "execution_count": 212,
      "metadata": {
        "colab": {
          "base_uri": "https://localhost:8080/"
        },
        "id": "puBm1P0en8Iu",
        "outputId": "e72a1734-b57d-43cf-e255-217672e5df69"
      },
      "outputs": [
        {
          "output_type": "stream",
          "name": "stdout",
          "text": [
            "(38310, 784) (38310,)\n",
            "(9578, 784) (9578,)\n"
          ]
        }
      ],
      "source": [
        "\n",
        "print(X_train.shape, y_train.shape)\n",
        "print(X_test.shape, y_test.shape)\n"
      ]
    },
    {
      "cell_type": "code",
      "execution_count": 213,
      "metadata": {
        "colab": {
          "base_uri": "https://localhost:8080/",
          "height": 677
        },
        "id": "JEcbVR2xoRzj",
        "outputId": "2e5cd593-5ade-4fcd-a0af-89f835901799"
      },
      "outputs": [
        {
          "output_type": "display_data",
          "data": {
            "text/plain": [
              "<Figure size 900x900 with 12 Axes>"
            ],
            "image/png": "[encoded data removed]"
          },
          "metadata": {}
        }
      ],
      "source": [
        "import matplotlib.pyplot as plt\n",
        "X_images = X.reshape(-1,28,28)\n",
        "fig,axs = plt.subplots(3,4,figsize=(9,9))\n",
        "for i in range(12):\n",
        "    r=i//3\n",
        "    c=i%3\n",
        "    axs[c][r].set_xticks([])\n",
        "    axs[c][r].set_yticks([])\n",
        "    axs[c][r].imshow(X_images[i], cmap=\"Greys\")\n",
        "plt.show()"
      ]
    },
    {
      "cell_type": "code",
      "execution_count": 214,
      "metadata": {
        "colab": {
          "base_uri": "https://localhost:8080/"
        },
        "id": "hZFhF1mYhCVE",
        "outputId": "4047275f-1cca-435d-c6e3-d04fbf8de172"
      },
      "outputs": [
        {
          "output_type": "stream",
          "name": "stdout",
          "text": [
            "Train labels dimension:\n",
            "(38310,)\n",
            "Test labels dimension:\n",
            "(9578,)\n"
          ]
        }
      ],
      "source": [
        "from sklearn.preprocessing import LabelBinarizer\n",
        "\n",
        "lb = LabelBinarizer()\n",
        "y_train_label = lb.fit_transform(y_train)\n",
        "y_test_label = lb.transform(y_test)\n",
        "print('Train labels dimension:');print(y_train.shape)\n",
        "print('Test labels dimension:');print(y_test.shape)"
      ]
    },
    {
      "cell_type": "markdown",
      "source": [
        "#CNN-Convolutional Neural Networks\n",
        "\n",
        "A CNN is a neural network commonly used in image and video recognition tasks. It extracts useful features using convolutional layers that apply a set of filters to the input image. The architecture includes multiple convolutional layers, pooling layers, fully connected layers, and backpropagation of errors. CNNs are successful in image and video recognition tasks, object detection, facial recognition, and text classification.\n",
        "\n",
        "\n",
        "The neural network for image recognition comprises several layers:\n",
        "\n",
        "- Convolution2D: detects features using filters and applies ReLU activation.\n",
        "\n",
        "- Batch Normalization: normalizes activations to accelerate training and enhance performance.\n",
        "\n",
        "- MaxPooling2D: reduces input dimensions through 2D max pooling.\n",
        "\n",
        "- Dropout: randomly omits neurons during training to decrease overfitting.\n",
        "\n",
        "- Flatten: transforms output into a one-dimensional array.\n",
        "\n",
        "- Dense: contains 256 neurons with ReLU activation, integrating learned features.\n",
        "\n",
        "- Output: contains 10 neurons corresponding to the categories of the dataset, employing the softmax activation to calculate the probability distribution for each class.\n"
      ],
      "metadata": {
        "id": "uIKubocp5zew"
      }
    },
    {
      "cell_type": "markdown",
      "source": [
        "#\n",
        "![CNN_.jpg](data:image/jpeg;base64,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)"
      ],
      "metadata": {
        "id": "O1zCQX6S-HjA"
      }
    },
    {
      "cell_type": "code",
      "execution_count": 215,
      "metadata": {
        "id": "kuM9BymKhH7L"
      },
      "outputs": [],
      "source": [
        "# Normalizing the Dataset for the Neural Network\n",
        "X_train, X_test = np.true_divide(X_train, 255), np.true_divide(X_test, 255)"
      ]
    },
    {
      "cell_type": "code",
      "execution_count": 216,
      "metadata": {
        "id": "0EzebdMmotgk"
      },
      "outputs": [],
      "source": [
        "# Reshape X_train and X_test for CNN\n",
        "X_train = X_train.reshape(-1,28,28,1).astype('float32')\n",
        "X_test = X_test.reshape(-1,28,28,1).astype('float32')"
      ]
    },
    {
      "cell_type": "code",
      "execution_count": 217,
      "metadata": {
        "id": "v0TpyarNhVoC"
      },
      "outputs": [],
      "source": [
        "# importing libraries for building neural netwrok\n",
        "from tensorflow.keras.models import Sequential,load_model\n",
        "from tensorflow.keras.layers import Dense, Conv2D, MaxPool2D,Flatten,Dropout,BatchNormalization\n",
        "from tensorflow.keras.optimizers import SGD, Adam, RMSprop\n",
        "from tensorflow.keras.callbacks import EarlyStopping\n",
        "\n",
        "cnnmodel = Sequential()\n",
        "cnnmodel.add(Conv2D(32,(4,4),input_shape = (28,28,1),activation = 'relu'))\n",
        "cnnmodel.add(MaxPooling2D(pool_size=(2,2)))\n",
        "cnnmodel.add(Conv2D(64,(3,3),activation = 'relu'))\n",
        "cnnmodel.add(MaxPooling2D(pool_size=(2,2)))\n",
        "cnnmodel.add(Dropout(0.2))\n",
        "cnnmodel.add(Dense(64,activation='relu'))\n",
        "cnnmodel.add(Flatten())\n",
        "cnnmodel.add(BatchNormalization())\n",
        "cnnmodel.add(Dropout(0.25))\n",
        "cnnmodel.add(Dense(350))\n",
        "cnnmodel.add(BatchNormalization())\n",
        "cnnmodel.add(Dense(y_train_label.shape[1], activation='tanh'))\n",
        "cnnmodel.add(Dropout(0.25))\n",
        "cnnmodel.add(Dense(350))\n",
        "cnnmodel.add(BatchNormalization())\n",
        "cnnmodel.add(Dense(y_train_label.shape[1], activation='tanh'))\n",
        "cnnmodel.add(Dropout(0.25))\n",
        "cnnmodel.add(Dense(y_train_label.shape[1], activation = 'softmax'))\n",
        "\n",
        "cnnmodel.compile(loss='categorical_crossentropy', optimizer='adam',metrics=['accuracy'])"
      ]
    },
    {
      "cell_type": "code",
      "execution_count": 218,
      "metadata": {
        "colab": {
          "base_uri": "https://localhost:8080/"
        },
        "id": "anlhvGFuhjiU",
        "outputId": "0e46a5e0-3845-419d-d304-bfc1eb45450f"
      },
      "outputs": [
        {
          "output_type": "stream",
          "name": "stdout",
          "text": [
            "Model: \"sequential_12\"\n",
            "_________________________________________________________________\n",
            " Layer (type)                Output Shape              Param #   \n",
            "=================================================================\n",
            " conv2d_19 (Conv2D)          (None, 25, 25, 32)        544       \n",
            "                                                                 \n",
            " max_pooling2d_10 (MaxPooli  (None, 12, 12, 32)        0         \n",
            " ng2D)                                                           \n",
            "                                                                 \n",
            " conv2d_20 (Conv2D)          (None, 10, 10, 64)        18496     \n",
            "                                                                 \n",
            " max_pooling2d_11 (MaxPooli  (None, 5, 5, 64)          0         \n",
            " ng2D)                                                           \n",
            "                                                                 \n",
            " dropout_18 (Dropout)        (None, 5, 5, 64)          0         \n",
            "                                                                 \n",
            " dense_26 (Dense)            (None, 5, 5, 64)          4160      \n",
            "                                                                 \n",
            " flatten_7 (Flatten)         (None, 1600)              0         \n",
            "                                                                 \n",
            " batch_normalization_24 (Ba  (None, 1600)              6400      \n",
            " tchNormalization)                                               \n",
            "                                                                 \n",
            " dropout_19 (Dropout)        (None, 1600)              0         \n",
            "                                                                 \n",
            " dense_27 (Dense)            (None, 350)               560350    \n",
            "                                                                 \n",
            " batch_normalization_25 (Ba  (None, 350)               1400      \n",
            " tchNormalization)                                               \n",
            "                                                                 \n",
            " dense_28 (Dense)            (None, 1002)              351702    \n",
            "                                                                 \n",
            " dropout_20 (Dropout)        (None, 1002)              0         \n",
            "                                                                 \n",
            " dense_29 (Dense)            (None, 350)               351050    \n",
            "                                                                 \n",
            " batch_normalization_26 (Ba  (None, 350)               1400      \n",
            " tchNormalization)                                               \n",
            "                                                                 \n",
            " dense_30 (Dense)            (None, 1002)              351702    \n",
            "                                                                 \n",
            " dropout_21 (Dropout)        (None, 1002)              0         \n",
            "                                                                 \n",
            " dense_31 (Dense)            (None, 1002)              1005006   \n",
            "                                                                 \n",
            "=================================================================\n",
            "Total params: 2652210 (10.12 MB)\n",
            "Trainable params: 2647610 (10.10 MB)\n",
            "Non-trainable params: 4600 (17.97 KB)\n",
            "_________________________________________________________________\n"
          ]
        }
      ],
      "source": [
        "cnnmodel.summary()"
      ]
    },
    {
      "cell_type": "code",
      "execution_count": 222,
      "metadata": {
        "colab": {
          "base_uri": "https://localhost:8080/"
        },
        "id": "0GeCg9XbhqhC",
        "outputId": "987c6183-17d2-406b-c355-8f817251ee98"
      },
      "outputs": [
        {
          "output_type": "stream",
          "name": "stdout",
          "text": [
            "Epoch 1/40\n",
            "247/247 [==============================] - 45s 182ms/step - loss: 0.8518 - accuracy: 0.7799 - val_loss: 0.9002 - val_accuracy: 0.7922\n",
            "Epoch 2/40\n",
            "247/247 [==============================] - 45s 183ms/step - loss: 0.6677 - accuracy: 0.8166 - val_loss: 0.8140 - val_accuracy: 0.8212\n",
            "Epoch 3/40\n",
            "247/247 [==============================] - 45s 183ms/step - loss: 0.5507 - accuracy: 0.8417 - val_loss: 0.6980 - val_accuracy: 0.8277\n",
            "Epoch 4/40\n",
            "247/247 [==============================] - 46s 185ms/step - loss: 0.4831 - accuracy: 0.8568 - val_loss: 0.6658 - val_accuracy: 0.8392\n",
            "Epoch 5/40\n",
            "247/247 [==============================] - 46s 185ms/step - loss: 0.4563 - accuracy: 0.8619 - val_loss: 0.6288 - val_accuracy: 0.8483\n",
            "Epoch 6/40\n",
            "247/247 [==============================] - 45s 182ms/step - loss: 0.4348 - accuracy: 0.8675 - val_loss: 0.6356 - val_accuracy: 0.8444\n",
            "Epoch 7/40\n",
            "247/247 [==============================] - 45s 184ms/step - loss: 0.4149 - accuracy: 0.8710 - val_loss: 0.6659 - val_accuracy: 0.8408\n",
            "Epoch 8/40\n",
            "247/247 [==============================] - 46s 185ms/step - loss: 0.4112 - accuracy: 0.8746 - val_loss: 0.6633 - val_accuracy: 0.8476\n",
            "Epoch 9/40\n",
            "247/247 [==============================] - 48s 193ms/step - loss: 0.4081 - accuracy: 0.8733 - val_loss: 0.6257 - val_accuracy: 0.8536\n",
            "Epoch 10/40\n",
            "247/247 [==============================] - 45s 183ms/step - loss: 0.3924 - accuracy: 0.8760 - val_loss: 0.6365 - val_accuracy: 0.8486\n",
            "Epoch 11/40\n",
            "247/247 [==============================] - 46s 184ms/step - loss: 0.4013 - accuracy: 0.8762 - val_loss: 0.7105 - val_accuracy: 0.8371\n",
            "Epoch 12/40\n",
            "247/247 [==============================] - 45s 183ms/step - loss: 0.3934 - accuracy: 0.8773 - val_loss: 0.6968 - val_accuracy: 0.8478\n",
            "Epoch 13/40\n",
            "247/247 [==============================] - 45s 182ms/step - loss: 0.3882 - accuracy: 0.8786 - val_loss: 0.6511 - val_accuracy: 0.8468\n",
            "Epoch 14/40\n",
            "247/247 [==============================] - 45s 182ms/step - loss: 0.3898 - accuracy: 0.8811 - val_loss: 0.7448 - val_accuracy: 0.8293\n",
            "Epoch 15/40\n",
            "247/247 [==============================] - 45s 184ms/step - loss: 0.3805 - accuracy: 0.8806 - val_loss: 0.6392 - val_accuracy: 0.8549\n",
            "Epoch 16/40\n",
            "247/247 [==============================] - 45s 182ms/step - loss: 0.3789 - accuracy: 0.8835 - val_loss: 0.6662 - val_accuracy: 0.8452\n",
            "Epoch 17/40\n",
            "247/247 [==============================] - 45s 183ms/step - loss: 0.3828 - accuracy: 0.8795 - val_loss: 0.6703 - val_accuracy: 0.8476\n",
            "Epoch 18/40\n",
            "247/247 [==============================] - 45s 181ms/step - loss: 0.3787 - accuracy: 0.8813 - val_loss: 0.6701 - val_accuracy: 0.8543\n",
            "Epoch 19/40\n",
            "247/247 [==============================] - 45s 182ms/step - loss: 0.3724 - accuracy: 0.8834 - val_loss: 0.6646 - val_accuracy: 0.8507\n",
            "Epoch 20/40\n",
            "247/247 [==============================] - 45s 180ms/step - loss: 0.3681 - accuracy: 0.8854 - val_loss: 0.6461 - val_accuracy: 0.8606\n",
            "Epoch 21/40\n",
            "247/247 [==============================] - 49s 200ms/step - loss: 0.3778 - accuracy: 0.8843 - val_loss: 0.6444 - val_accuracy: 0.8546\n",
            "Epoch 22/40\n",
            "247/247 [==============================] - 46s 185ms/step - loss: 0.3612 - accuracy: 0.8884 - val_loss: 0.6530 - val_accuracy: 0.8541\n",
            "Epoch 23/40\n",
            "247/247 [==============================] - 45s 182ms/step - loss: 0.3660 - accuracy: 0.8880 - val_loss: 0.6671 - val_accuracy: 0.8536\n",
            "Epoch 24/40\n",
            "247/247 [==============================] - 45s 181ms/step - loss: 0.3601 - accuracy: 0.8903 - val_loss: 0.6638 - val_accuracy: 0.8538\n",
            "Epoch 25/40\n",
            "247/247 [==============================] - 45s 180ms/step - loss: 0.3587 - accuracy: 0.8878 - val_loss: 0.6652 - val_accuracy: 0.8536\n",
            "Epoch 26/40\n",
            "247/247 [==============================] - 45s 181ms/step - loss: 0.3620 - accuracy: 0.8885 - val_loss: 0.6821 - val_accuracy: 0.8517\n",
            "Epoch 27/40\n",
            "247/247 [==============================] - 45s 182ms/step - loss: 0.3630 - accuracy: 0.8898 - val_loss: 0.6462 - val_accuracy: 0.8517\n",
            "Epoch 28/40\n",
            "247/247 [==============================] - 45s 183ms/step - loss: 0.3440 - accuracy: 0.8936 - val_loss: 0.6435 - val_accuracy: 0.8520\n",
            "Epoch 29/40\n",
            "247/247 [==============================] - 45s 182ms/step - loss: 0.3613 - accuracy: 0.8875 - val_loss: 0.6742 - val_accuracy: 0.8543\n",
            "Epoch 30/40\n",
            "247/247 [==============================] - 45s 182ms/step - loss: 0.3453 - accuracy: 0.8925 - val_loss: 0.6835 - val_accuracy: 0.8517\n",
            "Epoch 31/40\n",
            "247/247 [==============================] - 45s 181ms/step - loss: 0.3535 - accuracy: 0.8917 - val_loss: 0.6749 - val_accuracy: 0.8637\n",
            "Epoch 32/40\n",
            "247/247 [==============================] - 45s 182ms/step - loss: 0.3564 - accuracy: 0.8932 - val_loss: 0.6849 - val_accuracy: 0.8580\n",
            "Epoch 33/40\n",
            "247/247 [==============================] - 45s 182ms/step - loss: 0.3622 - accuracy: 0.8904 - val_loss: 0.6848 - val_accuracy: 0.8533\n",
            "Epoch 34/40\n",
            "247/247 [==============================] - 44s 180ms/step - loss: 0.3464 - accuracy: 0.8937 - val_loss: 0.6990 - val_accuracy: 0.8557\n",
            "Epoch 35/40\n",
            "247/247 [==============================] - 44s 179ms/step - loss: 0.3399 - accuracy: 0.8955 - val_loss: 0.6865 - val_accuracy: 0.8549\n",
            "Epoch 36/40\n",
            "247/247 [==============================] - 46s 187ms/step - loss: 0.3484 - accuracy: 0.8946 - val_loss: 0.7281 - val_accuracy: 0.8468\n",
            "Epoch 37/40\n",
            "247/247 [==============================] - 53s 214ms/step - loss: 0.3564 - accuracy: 0.8914 - val_loss: 0.7304 - val_accuracy: 0.8546\n",
            "Epoch 38/40\n",
            "247/247 [==============================] - 45s 181ms/step - loss: 0.3464 - accuracy: 0.8947 - val_loss: 0.7232 - val_accuracy: 0.8536\n",
            "Epoch 39/40\n",
            "247/247 [==============================] - 45s 182ms/step - loss: 0.3388 - accuracy: 0.8981 - val_loss: 0.7185 - val_accuracy: 0.8546\n",
            "Epoch 40/40\n",
            "247/247 [==============================] - 45s 181ms/step - loss: 0.3320 - accuracy: 0.8982 - val_loss: 0.6940 - val_accuracy: 0.8580\n"
          ]
        }
      ],
      "source": [
        "result = cnnmodel.fit(X_train, y_train_label, validation_split=0.1, epochs=40, batch_size=140, verbose=1)"
      ]
    },
    {
      "cell_type": "markdown",
      "source": [
        "#Evaluating model accuracy"
      ],
      "metadata": {
        "id": "hjE8S_LO6jFV"
      }
    },
    {
      "cell_type": "code",
      "execution_count": 223,
      "metadata": {
        "id": "Bc8aIOIbhxmU",
        "colab": {
          "base_uri": "https://localhost:8080/"
        },
        "outputId": "a04fa1b5-0968-4290-d31f-70bd3711f2f2"
      },
      "outputs": [
        {
          "output_type": "stream",
          "name": "stdout",
          "text": [
            "300/300 [==============================] - 6s 21ms/step - loss: 0.6642 - accuracy: 0.8454\n",
            "Test results - Accuracy: 0.8453748226165771%\n"
          ]
        }
      ],
      "source": [
        "test_results = cnnmodel.evaluate(X_test, y_test_label, verbose=1)\n",
        "print(f'Test results - Accuracy: {test_results[1]}%')"
      ]
    },
    {
      "cell_type": "markdown",
      "source": [
        "#Visualizing the model"
      ],
      "metadata": {
        "id": "FSyjRRam6gMu"
      }
    },
    {
      "cell_type": "code",
      "execution_count": 224,
      "metadata": {
        "id": "_NdDLg1bh1E5",
        "colab": {
          "base_uri": "https://localhost:8080/",
          "height": 860
        },
        "outputId": "7e0fbbf6-0c98-4334-9bf1-7b2cd31e2622"
      },
      "outputs": [
        {
          "output_type": "execute_result",
          "data": {
            "text/plain": [
              "<Axes: >"
            ]
          },
          "metadata": {},
          "execution_count": 224
        },
        {
          "output_type": "display_data",
          "data": {
            "text/plain": [
              "<Figure size 640x480 with 1 Axes>"
            ],
            "image/png": "[encoded data removed]"
          },
          "metadata": {}
        },
        {
          "output_type": "display_data",
          "data": {
            "text/plain": [
              "<Figure size 640x480 with 1 Axes>"
            ],
            "image/png": "[encoded data removed]"
          },
          "metadata": {}
        }
      ],
      "source": [
        "his = pd.DataFrame(result.history)\n",
        "his.loc[:, ['accuracy', 'val_accuracy']].plot()\n",
        "his.loc[:, ['loss', 'val_loss']].plot()"
      ]
    },
    {
      "cell_type": "markdown",
      "source": [
        "#Conclusion\n",
        "\n",
        "Our CNN recognizes handwritten characters in TMNIST dataset with X% accuracy. Our systematic and precise approach highlights the transformative potential of CNNs in machine learning and image classification, setting a % of accuracy."
      ],
      "metadata": {
        "id": "QscP4CpO5782"
      }
    },
    {
      "cell_type": "markdown",
      "source": [
        "#References\n",
        "https://www.kaggle.com/datasets/nimishmagre/tmnist-glyphs-1812-characters/code\n",
        "\n",
        "https://www.kaggle.com/code/shabinasingh/handwritten-digit-classification-glyphs/notebook\n",
        "\n",
        "https://www.kaggle.com/code/sonalimondal/tmnist-glyphs-cnn-modelling-sonali"
      ],
      "metadata": {
        "id": "TJbRxKa958fi"
      }
    },
    {
      "cell_type": "markdown",
      "source": [
        "#License\n",
        "MIT License\n",
        "\n",
        "Copyright (c) 2024 Tejaswitallapally\n",
        "\n",
        "Permission is hereby granted, free of charge, to any person obtaining a copy\n",
        "of this software and associated documentation files (the \"Software\"), to deal\n",
        "in the Software without restriction, including without limitation the rights\n",
        "to use, copy, modify, merge, publish, distribute, sublicense, and/or sell\n",
        "copies of the Software, and to permit persons to whom the Software is\n",
        "furnished to do so, subject to the following conditions:\n",
        "\n",
        "The above copyright notice and this permission notice shall be included in all\n",
        "copies or substantial portions of the Software.\n",
        "\n",
        "THE SOFTWARE IS PROVIDED \"AS IS\", WITHOUT WARRANTY OF ANY KIND, EXPRESS OR\n",
        "IMPLIED, INCLUDING BUT NOT LIMITED TO THE WARRANTIES OF MERCHANTABILITY,\n",
        "FITNESS FOR A PARTICULAR PURPOSE AND NONINFRINGEMENT. IN NO EVENT SHALL THE\n",
        "AUTHORS OR COPYRIGHT HOLDERS BE LIABLE FOR ANY CLAIM, DAMAGES OR OTHER\n",
        "LIABILITY, WHETHER IN AN ACTION OF CONTRACT, TORT OR OTHERWISE, ARISING FROM,\n",
        "OUT OF OR IN CONNECTION WITH THE SOFTWARE OR THE USE OR OTHER DEALINGS IN THE\n",
        "SOFTWARE."
      ],
      "metadata": {
        "id": "drjP3m5b59I6"
      }
    }
  ],
  "metadata": {
    "colab": {
      "provenance": [],
      "toc_visible": true
    },
    "kernelspec": {
      "display_name": "Python 3",
      "name": "python3"
    },
    "language_info": {
      "name": "python"
    }
  },
  "nbformat": 4,
  "nbformat_minor": 0
}